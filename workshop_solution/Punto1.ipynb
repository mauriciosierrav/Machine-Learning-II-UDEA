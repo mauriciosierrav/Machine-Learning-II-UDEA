{
 "cells": [
  {
   "cell_type": "code",
   "execution_count": 14,
   "metadata": {
    "collapsed": true
   },
   "outputs": [
    {
     "name": "stdout",
     "output_type": "stream",
     "text": [
      "Matrix A = \n",
      " [[0.44187297 0.30546139 0.95536498]\n",
      " [0.36821453 0.91635344 0.15594541]\n",
      " [0.9253704  0.70782862 0.16938634]]\n"
     ]
    }
   ],
   "source": [
    "import numpy as np\n",
    "\n",
    "# Generate a random rectangular matrix A\n",
    "A = np.random.rand(3, 3)\n",
    "print(\"Matrix A = \\n\", A)"
   ]
  },
  {
   "cell_type": "code",
   "execution_count": 15,
   "outputs": [
    {
     "name": "stdout",
     "output_type": "stream",
     "text": [
      "Rank of A =  3\n"
     ]
    }
   ],
   "source": [
    "# Rank of A\n",
    "rankA = np.linalg.matrix_rank(A)\n",
    "print(\"Rank of A = \", rankA)"
   ],
   "metadata": {
    "collapsed": false
   }
  },
  {
   "cell_type": "code",
   "execution_count": 16,
   "outputs": [
    {
     "name": "stdout",
     "output_type": "stream",
     "text": [
      "Trace of A =  1.527612759431411\n"
     ]
    }
   ],
   "source": [
    "# Trace of A\n",
    "traceA = np.trace(A)\n",
    "print(\"Trace of A = \", traceA)"
   ],
   "metadata": {
    "collapsed": false
   }
  },
  {
   "cell_type": "code",
   "execution_count": 17,
   "outputs": [
    {
     "name": "stdout",
     "output_type": "stream",
     "text": [
      "Determinant of A =  -0.5162779761057099\n"
     ]
    }
   ],
   "source": [
    "# Determinant of A\n",
    "if A.shape[0] == A.shape[1]:\n",
    "    detA = np.linalg.det(A)\n",
    "    print(\"Determinant of A = \", detA)\n",
    "else:\n",
    "    print(\"A is not a square matrix. Determinant is not defined.\")"
   ],
   "metadata": {
    "collapsed": false
   }
  },
  {
   "cell_type": "code",
   "execution_count": 18,
   "outputs": [
    {
     "name": "stdout",
     "output_type": "stream",
     "text": [
      "Inverse of A = \n",
      " [[-0.08684301 -1.20960745  1.60343211]\n",
      " [-0.15870666  1.56740994 -0.54790485]\n",
      " [ 1.1376305   0.0583124  -0.56643225]]\n"
     ]
    }
   ],
   "source": [
    "# Inverse of A\n",
    "if A.shape[0] == A.shape[1] and detA != 0:\n",
    "    invA = np.linalg.inv(A)\n",
    "    print(\"Inverse of A = \\n\", invA)\n",
    "else:\n",
    "    print(\"A is not a square matrix or Determinant of A is 0. Inverse does not exist.\")"
   ],
   "metadata": {
    "collapsed": false
   }
  },
  {
   "cell_type": "code",
   "execution_count": 19,
   "outputs": [
    {
     "name": "stdout",
     "output_type": "stream",
     "text": [
      " eigvals_AtA =  [2.82333339 0.15517207 0.60840318] \n",
      " eigvecs_AtA = \n",
      " [[ 0.62019582  0.77641404 -0.1119749 ]\n",
      " [ 0.66767021 -0.59739763 -0.44422129]\n",
      " [ 0.41179319 -0.20074188  0.88889204]]\n",
      "\n",
      "\n",
      " eigvals_AAt =  [2.82333339 0.60840318 0.15517207] \n",
      " eigvecs_AAt = \n",
      " [[ 0.51860951  0.85133776 -0.07917188]\n",
      " [ 0.53824688 -0.39701929 -0.74341508]\n",
      " [ 0.66433009 -0.34292811  0.66412788]]\n"
     ]
    }
   ],
   "source": [
    "# Eigenvalues and eigenvectors of A'A and AA'\n",
    "AtA = np.transpose(A) @ A\n",
    "AAt = A @ np.transpose(A)\n",
    "eigvals_AtA, eigvecs_AtA = np.linalg.eig(AtA)\n",
    "eigvals_AAt, eigvecs_AAt = np.linalg.eig(AAt)\n",
    "\n",
    "print(\" eigvals_AtA = \", eigvals_AtA, \"\\n\", \"eigvecs_AtA = \\n\", eigvecs_AtA)\n",
    "print(\"\\n\")\n",
    "print(\" eigvals_AAt = \", eigvals_AAt, \"\\n\", \"eigvecs_AAt = \\n\", eigvecs_AAt)"
   ],
   "metadata": {
    "collapsed": false
   }
  },
  {
   "cell_type": "markdown",
   "source": [
    "### What interesting differences can you notice between both?\n",
    "The **eigvals** are the same values, however in some cases the terms change position.\n",
    "The **eigvecs** are very different, which explains that for this case AtA and AAt are not the same"
   ],
   "metadata": {
    "collapsed": false
   }
  }
 ],
 "metadata": {
  "kernelspec": {
   "display_name": "Python 3",
   "language": "python",
   "name": "python3"
  },
  "language_info": {
   "codemirror_mode": {
    "name": "ipython",
    "version": 2
   },
   "file_extension": ".py",
   "mimetype": "text/x-python",
   "name": "python",
   "nbconvert_exporter": "python",
   "pygments_lexer": "ipython2",
   "version": "2.7.6"
  }
 },
 "nbformat": 4,
 "nbformat_minor": 0
}
